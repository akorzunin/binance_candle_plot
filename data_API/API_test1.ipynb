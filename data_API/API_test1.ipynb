{
 "cells": [
  {
   "cell_type": "code",
   "execution_count": 16,
   "metadata": {},
   "outputs": [],
   "source": [
    "import requests\n",
    "import pandas as pd\n",
    "import pickle\n",
    "endpoint = 'http://192.168.1.125:8000'"
   ]
  },
  {
   "cell_type": "code",
   "execution_count": 17,
   "metadata": {},
   "outputs": [
    {
     "data": {
      "text/plain": [
       "(200, {'message': '2022-03-03 18:50:17.469506'})"
      ]
     },
     "execution_count": 17,
     "metadata": {},
     "output_type": "execute_result"
    }
   ],
   "source": [
    "# %timeit \n",
    "r = requests.get(f'{endpoint}/server_time')\n",
    "r.status_code, r.json()"
   ]
  },
  {
   "cell_type": "code",
   "execution_count": 18,
   "metadata": {},
   "outputs": [
    {
     "data": {
      "text/plain": [
       "(200, {'message': '2022-03-03 18:50:27.484454'})"
      ]
     },
     "execution_count": 18,
     "metadata": {},
     "output_type": "execute_result"
    }
   ],
   "source": [
    "r = requests.post(f'{endpoint}/server_time')\n",
    "r.status_code, r.json()"
   ]
  },
  {
   "cell_type": "code",
   "execution_count": 27,
   "metadata": {},
   "outputs": [
    {
     "data": {
      "text/html": [
       "<div>\n",
       "<style scoped>\n",
       "    .dataframe tbody tr th:only-of-type {\n",
       "        vertical-align: middle;\n",
       "    }\n",
       "\n",
       "    .dataframe tbody tr th {\n",
       "        vertical-align: top;\n",
       "    }\n",
       "\n",
       "    .dataframe thead th {\n",
       "        text-align: right;\n",
       "    }\n",
       "</style>\n",
       "<table border=\"1\" class=\"dataframe\">\n",
       "  <thead>\n",
       "    <tr style=\"text-align: right;\">\n",
       "      <th></th>\n",
       "      <th>Date</th>\n",
       "      <th>Open</th>\n",
       "      <th>High</th>\n",
       "      <th>Low</th>\n",
       "      <th>Close</th>\n",
       "      <th>Real_Date</th>\n",
       "    </tr>\n",
       "  </thead>\n",
       "  <tbody>\n",
       "    <tr>\n",
       "      <th>0</th>\n",
       "      <td>2022-03-03 18:42:00</td>\n",
       "      <td>0.05716</td>\n",
       "      <td>0.05718</td>\n",
       "      <td>0.05708</td>\n",
       "      <td>0.05709</td>\n",
       "      <td>1646322120000</td>\n",
       "    </tr>\n",
       "    <tr>\n",
       "      <th>1</th>\n",
       "      <td>2022-03-03 18:43:00</td>\n",
       "      <td>0.05711</td>\n",
       "      <td>0.05712</td>\n",
       "      <td>0.05697</td>\n",
       "      <td>0.05701</td>\n",
       "      <td>1646322180000</td>\n",
       "    </tr>\n",
       "    <tr>\n",
       "      <th>2</th>\n",
       "      <td>2022-03-03 18:44:00</td>\n",
       "      <td>0.05696</td>\n",
       "      <td>0.05697</td>\n",
       "      <td>0.05683</td>\n",
       "      <td>0.05696</td>\n",
       "      <td>1646322240000</td>\n",
       "    </tr>\n",
       "    <tr>\n",
       "      <th>3</th>\n",
       "      <td>2022-03-03 18:45:00</td>\n",
       "      <td>0.05695</td>\n",
       "      <td>0.05708</td>\n",
       "      <td>0.05689</td>\n",
       "      <td>0.05689</td>\n",
       "      <td>1646322300000</td>\n",
       "    </tr>\n",
       "    <tr>\n",
       "      <th>4</th>\n",
       "      <td>2022-03-03 18:46:00</td>\n",
       "      <td>0.05687</td>\n",
       "      <td>0.05699</td>\n",
       "      <td>0.05676</td>\n",
       "      <td>0.05699</td>\n",
       "      <td>1646322360000</td>\n",
       "    </tr>\n",
       "    <tr>\n",
       "      <th>5</th>\n",
       "      <td>2022-03-03 18:47:00</td>\n",
       "      <td>0.05699</td>\n",
       "      <td>0.05724</td>\n",
       "      <td>0.05699</td>\n",
       "      <td>0.05715</td>\n",
       "      <td>1646322420000</td>\n",
       "    </tr>\n",
       "    <tr>\n",
       "      <th>6</th>\n",
       "      <td>2022-03-03 18:48:00</td>\n",
       "      <td>0.05717</td>\n",
       "      <td>0.05728</td>\n",
       "      <td>0.05717</td>\n",
       "      <td>0.05728</td>\n",
       "      <td>1646322480000</td>\n",
       "    </tr>\n",
       "    <tr>\n",
       "      <th>7</th>\n",
       "      <td>2022-03-03 18:49:00</td>\n",
       "      <td>0.05728</td>\n",
       "      <td>0.05738</td>\n",
       "      <td>0.05728</td>\n",
       "      <td>0.05736</td>\n",
       "      <td>1646322540000</td>\n",
       "    </tr>\n",
       "    <tr>\n",
       "      <th>8</th>\n",
       "      <td>2022-03-03 18:50:00</td>\n",
       "      <td>0.05734</td>\n",
       "      <td>0.05745</td>\n",
       "      <td>0.05727</td>\n",
       "      <td>0.05738</td>\n",
       "      <td>1646322600000</td>\n",
       "    </tr>\n",
       "    <tr>\n",
       "      <th>9</th>\n",
       "      <td>2022-03-03 18:51:00</td>\n",
       "      <td>0.05739</td>\n",
       "      <td>0.05739</td>\n",
       "      <td>0.05731</td>\n",
       "      <td>0.05731</td>\n",
       "      <td>1646322660000</td>\n",
       "    </tr>\n",
       "  </tbody>\n",
       "</table>\n",
       "</div>"
      ],
      "text/plain": [
       "                 Date     Open     High      Low    Close      Real_Date\n",
       "0 2022-03-03 18:42:00  0.05716  0.05718  0.05708  0.05709  1646322120000\n",
       "1 2022-03-03 18:43:00  0.05711  0.05712  0.05697  0.05701  1646322180000\n",
       "2 2022-03-03 18:44:00  0.05696  0.05697  0.05683  0.05696  1646322240000\n",
       "3 2022-03-03 18:45:00  0.05695  0.05708  0.05689  0.05689  1646322300000\n",
       "4 2022-03-03 18:46:00  0.05687  0.05699  0.05676  0.05699  1646322360000\n",
       "5 2022-03-03 18:47:00  0.05699  0.05724  0.05699  0.05715  1646322420000\n",
       "6 2022-03-03 18:48:00  0.05717  0.05728  0.05717  0.05728  1646322480000\n",
       "7 2022-03-03 18:49:00  0.05728  0.05738  0.05728  0.05736  1646322540000\n",
       "8 2022-03-03 18:50:00  0.05734  0.05745  0.05727  0.05738  1646322600000\n",
       "9 2022-03-03 18:51:00  0.05739  0.05739  0.05731  0.05731  1646322660000"
      ]
     },
     "metadata": {},
     "output_type": "display_data"
    },
    {
     "data": {
      "text/plain": [
       "(200,)"
      ]
     },
     "execution_count": 27,
     "metadata": {},
     "output_type": "execute_result"
    }
   ],
   "source": [
    "# get df from api\n",
    "r = requests.get(f'{endpoint}/df')\n",
    "display(pd.read_json(r.json()['df']))\n",
    "r.status_code, "
   ]
  },
  {
   "cell_type": "code",
   "execution_count": 25,
   "metadata": {},
   "outputs": [],
   "source": [
    "jdf = df.to_json()\n",
    "import json"
   ]
  },
  {
   "cell_type": "code",
   "execution_count": 26,
   "metadata": {},
   "outputs": [
    {
     "data": {
      "text/html": [
       "<div>\n",
       "<style scoped>\n",
       "    .dataframe tbody tr th:only-of-type {\n",
       "        vertical-align: middle;\n",
       "    }\n",
       "\n",
       "    .dataframe tbody tr th {\n",
       "        vertical-align: top;\n",
       "    }\n",
       "\n",
       "    .dataframe thead th {\n",
       "        text-align: right;\n",
       "    }\n",
       "</style>\n",
       "<table border=\"1\" class=\"dataframe\">\n",
       "  <thead>\n",
       "    <tr style=\"text-align: right;\">\n",
       "      <th></th>\n",
       "      <th>Date</th>\n",
       "      <th>Open</th>\n",
       "      <th>High</th>\n",
       "      <th>Low</th>\n",
       "      <th>Close</th>\n",
       "      <th>Real_Date</th>\n",
       "    </tr>\n",
       "  </thead>\n",
       "  <tbody>\n",
       "    <tr>\n",
       "      <th>0</th>\n",
       "      <td>2022-03-03 18:42:00</td>\n",
       "      <td>0.05716</td>\n",
       "      <td>0.05718</td>\n",
       "      <td>0.05708</td>\n",
       "      <td>0.05709</td>\n",
       "      <td>1646322120000</td>\n",
       "    </tr>\n",
       "    <tr>\n",
       "      <th>1</th>\n",
       "      <td>2022-03-03 18:43:00</td>\n",
       "      <td>0.05711</td>\n",
       "      <td>0.05712</td>\n",
       "      <td>0.05697</td>\n",
       "      <td>0.05701</td>\n",
       "      <td>1646322180000</td>\n",
       "    </tr>\n",
       "    <tr>\n",
       "      <th>2</th>\n",
       "      <td>2022-03-03 18:44:00</td>\n",
       "      <td>0.05696</td>\n",
       "      <td>0.05697</td>\n",
       "      <td>0.05683</td>\n",
       "      <td>0.05696</td>\n",
       "      <td>1646322240000</td>\n",
       "    </tr>\n",
       "    <tr>\n",
       "      <th>3</th>\n",
       "      <td>2022-03-03 18:45:00</td>\n",
       "      <td>0.05695</td>\n",
       "      <td>0.05708</td>\n",
       "      <td>0.05689</td>\n",
       "      <td>0.05689</td>\n",
       "      <td>1646322300000</td>\n",
       "    </tr>\n",
       "    <tr>\n",
       "      <th>4</th>\n",
       "      <td>2022-03-03 18:46:00</td>\n",
       "      <td>0.05687</td>\n",
       "      <td>0.05699</td>\n",
       "      <td>0.05676</td>\n",
       "      <td>0.05699</td>\n",
       "      <td>1646322360000</td>\n",
       "    </tr>\n",
       "    <tr>\n",
       "      <th>5</th>\n",
       "      <td>2022-03-03 18:47:00</td>\n",
       "      <td>0.05699</td>\n",
       "      <td>0.05724</td>\n",
       "      <td>0.05699</td>\n",
       "      <td>0.05715</td>\n",
       "      <td>1646322420000</td>\n",
       "    </tr>\n",
       "    <tr>\n",
       "      <th>6</th>\n",
       "      <td>2022-03-03 18:48:00</td>\n",
       "      <td>0.05717</td>\n",
       "      <td>0.05728</td>\n",
       "      <td>0.05717</td>\n",
       "      <td>0.05728</td>\n",
       "      <td>1646322480000</td>\n",
       "    </tr>\n",
       "    <tr>\n",
       "      <th>7</th>\n",
       "      <td>2022-03-03 18:49:00</td>\n",
       "      <td>0.05728</td>\n",
       "      <td>0.05738</td>\n",
       "      <td>0.05728</td>\n",
       "      <td>0.05736</td>\n",
       "      <td>1646322540000</td>\n",
       "    </tr>\n",
       "    <tr>\n",
       "      <th>8</th>\n",
       "      <td>2022-03-03 18:50:00</td>\n",
       "      <td>0.05734</td>\n",
       "      <td>0.05745</td>\n",
       "      <td>0.05727</td>\n",
       "      <td>0.05738</td>\n",
       "      <td>1646322600000</td>\n",
       "    </tr>\n",
       "    <tr>\n",
       "      <th>9</th>\n",
       "      <td>2022-03-03 18:51:00</td>\n",
       "      <td>0.05739</td>\n",
       "      <td>0.05739</td>\n",
       "      <td>0.05731</td>\n",
       "      <td>0.05731</td>\n",
       "      <td>1646322660000</td>\n",
       "    </tr>\n",
       "  </tbody>\n",
       "</table>\n",
       "</div>"
      ],
      "text/plain": [
       "                 Date     Open     High      Low    Close      Real_Date\n",
       "0 2022-03-03 18:42:00  0.05716  0.05718  0.05708  0.05709  1646322120000\n",
       "1 2022-03-03 18:43:00  0.05711  0.05712  0.05697  0.05701  1646322180000\n",
       "2 2022-03-03 18:44:00  0.05696  0.05697  0.05683  0.05696  1646322240000\n",
       "3 2022-03-03 18:45:00  0.05695  0.05708  0.05689  0.05689  1646322300000\n",
       "4 2022-03-03 18:46:00  0.05687  0.05699  0.05676  0.05699  1646322360000\n",
       "5 2022-03-03 18:47:00  0.05699  0.05724  0.05699  0.05715  1646322420000\n",
       "6 2022-03-03 18:48:00  0.05717  0.05728  0.05717  0.05728  1646322480000\n",
       "7 2022-03-03 18:49:00  0.05728  0.05738  0.05728  0.05736  1646322540000\n",
       "8 2022-03-03 18:50:00  0.05734  0.05745  0.05727  0.05738  1646322600000\n",
       "9 2022-03-03 18:51:00  0.05739  0.05739  0.05731  0.05731  1646322660000"
      ]
     },
     "metadata": {},
     "output_type": "display_data"
    },
    {
     "data": {
      "text/plain": [
       "(200,)"
      ]
     },
     "execution_count": 26,
     "metadata": {},
     "output_type": "execute_result"
    }
   ],
   "source": [
    "#update df on server\n",
    "r = requests.post(f'{endpoint}/df', json.dumps({'df': df.to_json()}))\n",
    "# display(pd.read_json(r.json()['df']))\n",
    "display(pd.read_json(r.json()['df']))\n",
    "r.status_code, "
   ]
  },
  {
   "cell_type": "code",
   "execution_count": null,
   "metadata": {},
   "outputs": [],
   "source": [
    "class DataFrameModel_:\n",
    "    df: pd.DataFrame"
   ]
  },
  {
   "cell_type": "code",
   "execution_count": null,
   "metadata": {},
   "outputs": [],
   "source": [
    "DataFrameModel_.df = 1"
   ]
  },
  {
   "cell_type": "code",
   "execution_count": null,
   "metadata": {},
   "outputs": [
    {
     "data": {
      "text/plain": [
       "1"
      ]
     },
     "execution_count": 299,
     "metadata": {},
     "output_type": "execute_result"
    }
   ],
   "source": [
    "DataFrameModel_.df"
   ]
  },
  {
   "cell_type": "code",
   "execution_count": null,
   "metadata": {},
   "outputs": [],
   "source": [
    "from pydantic import BaseModel\n",
    "import pandas as pd\n",
    "class DataFrameModel(BaseModel):\n",
    "    df: pd.DataFrame\n",
    "    class Config:\n",
    "        arbitrary_types_allowed = True"
   ]
  },
  {
   "cell_type": "code",
   "execution_count": null,
   "metadata": {},
   "outputs": [],
   "source": [
    "DataFrameModel.df = '2'"
   ]
  },
  {
   "cell_type": "code",
   "execution_count": null,
   "metadata": {},
   "outputs": [
    {
     "data": {
      "text/plain": [
       "'2'"
      ]
     },
     "execution_count": 14,
     "metadata": {},
     "output_type": "execute_result"
    }
   ],
   "source": [
    "DataFrameModel.df"
   ]
  },
  {
   "cell_type": "code",
   "execution_count": null,
   "metadata": {},
   "outputs": [],
   "source": []
  },
  {
   "cell_type": "code",
   "execution_count": null,
   "metadata": {},
   "outputs": [
    {
     "data": {
      "text/plain": [
       "str"
      ]
     },
     "execution_count": 278,
     "metadata": {},
     "output_type": "execute_result"
    }
   ],
   "source": [
    "type(json.dumps({'df': jdf}))"
   ]
  },
  {
   "cell_type": "code",
   "execution_count": null,
   "metadata": {},
   "outputs": [
    {
     "data": {
      "text/plain": [
       "True"
      ]
     },
     "execution_count": 265,
     "metadata": {},
     "output_type": "execute_result"
    }
   ],
   "source": [
    "isinstance(df, pd.DataFrame)"
   ]
  },
  {
   "cell_type": "code",
   "execution_count": 23,
   "metadata": {},
   "outputs": [
    {
     "data": {
      "text/html": [
       "<div>\n",
       "<style scoped>\n",
       "    .dataframe tbody tr th:only-of-type {\n",
       "        vertical-align: middle;\n",
       "    }\n",
       "\n",
       "    .dataframe tbody tr th {\n",
       "        vertical-align: top;\n",
       "    }\n",
       "\n",
       "    .dataframe thead th {\n",
       "        text-align: right;\n",
       "    }\n",
       "</style>\n",
       "<table border=\"1\" class=\"dataframe\">\n",
       "  <thead>\n",
       "    <tr style=\"text-align: right;\">\n",
       "      <th></th>\n",
       "      <th>Date</th>\n",
       "      <th>Open</th>\n",
       "      <th>High</th>\n",
       "      <th>Low</th>\n",
       "      <th>Close</th>\n",
       "      <th>Real_Date</th>\n",
       "    </tr>\n",
       "  </thead>\n",
       "  <tbody>\n",
       "    <tr>\n",
       "      <th>0</th>\n",
       "      <td>2022-03-03 18:42:00</td>\n",
       "      <td>0.05716000</td>\n",
       "      <td>0.05718000</td>\n",
       "      <td>0.05708000</td>\n",
       "      <td>0.05709000</td>\n",
       "      <td>1646322120000</td>\n",
       "    </tr>\n",
       "    <tr>\n",
       "      <th>1</th>\n",
       "      <td>2022-03-03 18:43:00</td>\n",
       "      <td>0.05711000</td>\n",
       "      <td>0.05712000</td>\n",
       "      <td>0.05697000</td>\n",
       "      <td>0.05701000</td>\n",
       "      <td>1646322180000</td>\n",
       "    </tr>\n",
       "    <tr>\n",
       "      <th>2</th>\n",
       "      <td>2022-03-03 18:44:00</td>\n",
       "      <td>0.05696000</td>\n",
       "      <td>0.05697000</td>\n",
       "      <td>0.05683000</td>\n",
       "      <td>0.05696000</td>\n",
       "      <td>1646322240000</td>\n",
       "    </tr>\n",
       "    <tr>\n",
       "      <th>3</th>\n",
       "      <td>2022-03-03 18:45:00</td>\n",
       "      <td>0.05695000</td>\n",
       "      <td>0.05708000</td>\n",
       "      <td>0.05689000</td>\n",
       "      <td>0.05689000</td>\n",
       "      <td>1646322300000</td>\n",
       "    </tr>\n",
       "    <tr>\n",
       "      <th>4</th>\n",
       "      <td>2022-03-03 18:46:00</td>\n",
       "      <td>0.05687000</td>\n",
       "      <td>0.05699000</td>\n",
       "      <td>0.05676000</td>\n",
       "      <td>0.05699000</td>\n",
       "      <td>1646322360000</td>\n",
       "    </tr>\n",
       "    <tr>\n",
       "      <th>5</th>\n",
       "      <td>2022-03-03 18:47:00</td>\n",
       "      <td>0.05699000</td>\n",
       "      <td>0.05724000</td>\n",
       "      <td>0.05699000</td>\n",
       "      <td>0.05715000</td>\n",
       "      <td>1646322420000</td>\n",
       "    </tr>\n",
       "    <tr>\n",
       "      <th>6</th>\n",
       "      <td>2022-03-03 18:48:00</td>\n",
       "      <td>0.05717000</td>\n",
       "      <td>0.05728000</td>\n",
       "      <td>0.05717000</td>\n",
       "      <td>0.05728000</td>\n",
       "      <td>1646322480000</td>\n",
       "    </tr>\n",
       "    <tr>\n",
       "      <th>7</th>\n",
       "      <td>2022-03-03 18:49:00</td>\n",
       "      <td>0.05728000</td>\n",
       "      <td>0.05738000</td>\n",
       "      <td>0.05728000</td>\n",
       "      <td>0.05736000</td>\n",
       "      <td>1646322540000</td>\n",
       "    </tr>\n",
       "    <tr>\n",
       "      <th>8</th>\n",
       "      <td>2022-03-03 18:50:00</td>\n",
       "      <td>0.05734000</td>\n",
       "      <td>0.05745000</td>\n",
       "      <td>0.05727000</td>\n",
       "      <td>0.05738000</td>\n",
       "      <td>1646322600000</td>\n",
       "    </tr>\n",
       "    <tr>\n",
       "      <th>9</th>\n",
       "      <td>2022-03-03 18:51:00</td>\n",
       "      <td>0.05739000</td>\n",
       "      <td>0.05739000</td>\n",
       "      <td>0.05731000</td>\n",
       "      <td>0.05731000</td>\n",
       "      <td>1646322660000</td>\n",
       "    </tr>\n",
       "  </tbody>\n",
       "</table>\n",
       "</div>"
      ],
      "text/plain": [
       "                 Date        Open        High         Low       Close  \\\n",
       "0 2022-03-03 18:42:00  0.05716000  0.05718000  0.05708000  0.05709000   \n",
       "1 2022-03-03 18:43:00  0.05711000  0.05712000  0.05697000  0.05701000   \n",
       "2 2022-03-03 18:44:00  0.05696000  0.05697000  0.05683000  0.05696000   \n",
       "3 2022-03-03 18:45:00  0.05695000  0.05708000  0.05689000  0.05689000   \n",
       "4 2022-03-03 18:46:00  0.05687000  0.05699000  0.05676000  0.05699000   \n",
       "5 2022-03-03 18:47:00  0.05699000  0.05724000  0.05699000  0.05715000   \n",
       "6 2022-03-03 18:48:00  0.05717000  0.05728000  0.05717000  0.05728000   \n",
       "7 2022-03-03 18:49:00  0.05728000  0.05738000  0.05728000  0.05736000   \n",
       "8 2022-03-03 18:50:00  0.05734000  0.05745000  0.05727000  0.05738000   \n",
       "9 2022-03-03 18:51:00  0.05739000  0.05739000  0.05731000  0.05731000   \n",
       "\n",
       "       Real_Date  \n",
       "0  1646322120000  \n",
       "1  1646322180000  \n",
       "2  1646322240000  \n",
       "3  1646322300000  \n",
       "4  1646322360000  \n",
       "5  1646322420000  \n",
       "6  1646322480000  \n",
       "7  1646322540000  \n",
       "8  1646322600000  \n",
       "9  1646322660000  "
      ]
     },
     "execution_count": 23,
     "metadata": {},
     "output_type": "execute_result"
    }
   ],
   "source": [
    "import os\n",
    "from dotenv import load_dotenv\n",
    "\n",
    "load_dotenv()\n",
    "PWD = os.getenv(\"PWD\")\n",
    "import sys\n",
    "sys.path.insert(1, f'{PWD}\\\\modules')\n",
    "\n",
    "from api_modules.open_binance_api import OpenBinanceApi\n",
    "\n",
    "df = OpenBinanceApi.get_df(\n",
    "            pair = 'RVNUSDT', # pair\n",
    "            interval = '1m', # Interval\n",
    "            limit = 10,   # limit\n",
    "    )\n",
    "df"
   ]
  },
  {
   "cell_type": "code",
   "execution_count": null,
   "metadata": {},
   "outputs": [],
   "source": [
    "pog = df.to_json()"
   ]
  },
  {
   "cell_type": "code",
   "execution_count": null,
   "metadata": {},
   "outputs": [
    {
     "data": {
      "text/html": [
       "<div>\n",
       "<style scoped>\n",
       "    .dataframe tbody tr th:only-of-type {\n",
       "        vertical-align: middle;\n",
       "    }\n",
       "\n",
       "    .dataframe tbody tr th {\n",
       "        vertical-align: top;\n",
       "    }\n",
       "\n",
       "    .dataframe thead th {\n",
       "        text-align: right;\n",
       "    }\n",
       "</style>\n",
       "<table border=\"1\" class=\"dataframe\">\n",
       "  <thead>\n",
       "    <tr style=\"text-align: right;\">\n",
       "      <th></th>\n",
       "      <th>Date</th>\n",
       "      <th>Open</th>\n",
       "      <th>High</th>\n",
       "      <th>Low</th>\n",
       "      <th>Close</th>\n",
       "      <th>Real_Date</th>\n",
       "    </tr>\n",
       "  </thead>\n",
       "  <tbody>\n",
       "    <tr>\n",
       "      <th>0</th>\n",
       "      <td>2022-03-02 23:41:00</td>\n",
       "      <td>0.05959</td>\n",
       "      <td>0.05961</td>\n",
       "      <td>0.05959</td>\n",
       "      <td>0.05961</td>\n",
       "      <td>1646253660000</td>\n",
       "    </tr>\n",
       "    <tr>\n",
       "      <th>1</th>\n",
       "      <td>2022-03-02 23:42:00</td>\n",
       "      <td>0.05963</td>\n",
       "      <td>0.05963</td>\n",
       "      <td>0.05958</td>\n",
       "      <td>0.05960</td>\n",
       "      <td>1646253720000</td>\n",
       "    </tr>\n",
       "    <tr>\n",
       "      <th>2</th>\n",
       "      <td>2022-03-02 23:43:00</td>\n",
       "      <td>0.05961</td>\n",
       "      <td>0.05962</td>\n",
       "      <td>0.05961</td>\n",
       "      <td>0.05962</td>\n",
       "      <td>1646253780000</td>\n",
       "    </tr>\n",
       "    <tr>\n",
       "      <th>3</th>\n",
       "      <td>2022-03-02 23:44:00</td>\n",
       "      <td>0.05962</td>\n",
       "      <td>0.05962</td>\n",
       "      <td>0.05959</td>\n",
       "      <td>0.05959</td>\n",
       "      <td>1646253840000</td>\n",
       "    </tr>\n",
       "    <tr>\n",
       "      <th>4</th>\n",
       "      <td>2022-03-02 23:45:00</td>\n",
       "      <td>0.05966</td>\n",
       "      <td>0.05966</td>\n",
       "      <td>0.05960</td>\n",
       "      <td>0.05963</td>\n",
       "      <td>1646253900000</td>\n",
       "    </tr>\n",
       "    <tr>\n",
       "      <th>...</th>\n",
       "      <td>...</td>\n",
       "      <td>...</td>\n",
       "      <td>...</td>\n",
       "      <td>...</td>\n",
       "      <td>...</td>\n",
       "      <td>...</td>\n",
       "    </tr>\n",
       "    <tr>\n",
       "      <th>995</th>\n",
       "      <td>2022-03-03 16:16:00</td>\n",
       "      <td>0.05916</td>\n",
       "      <td>0.05918</td>\n",
       "      <td>0.05916</td>\n",
       "      <td>0.05918</td>\n",
       "      <td>1646313360000</td>\n",
       "    </tr>\n",
       "    <tr>\n",
       "      <th>996</th>\n",
       "      <td>2022-03-03 16:17:00</td>\n",
       "      <td>0.05916</td>\n",
       "      <td>0.05916</td>\n",
       "      <td>0.05916</td>\n",
       "      <td>0.05916</td>\n",
       "      <td>1646313420000</td>\n",
       "    </tr>\n",
       "    <tr>\n",
       "      <th>997</th>\n",
       "      <td>2022-03-03 16:18:00</td>\n",
       "      <td>0.05916</td>\n",
       "      <td>0.05917</td>\n",
       "      <td>0.05915</td>\n",
       "      <td>0.05915</td>\n",
       "      <td>1646313480000</td>\n",
       "    </tr>\n",
       "    <tr>\n",
       "      <th>998</th>\n",
       "      <td>2022-03-03 16:19:00</td>\n",
       "      <td>0.05915</td>\n",
       "      <td>0.05918</td>\n",
       "      <td>0.05915</td>\n",
       "      <td>0.05918</td>\n",
       "      <td>1646313540000</td>\n",
       "    </tr>\n",
       "    <tr>\n",
       "      <th>999</th>\n",
       "      <td>2022-03-03 16:20:00</td>\n",
       "      <td>0.05918</td>\n",
       "      <td>0.05918</td>\n",
       "      <td>0.05918</td>\n",
       "      <td>0.05918</td>\n",
       "      <td>1646313600000</td>\n",
       "    </tr>\n",
       "  </tbody>\n",
       "</table>\n",
       "<p>1000 rows × 6 columns</p>\n",
       "</div>"
      ],
      "text/plain": [
       "                   Date     Open     High      Low    Close      Real_Date\n",
       "0   2022-03-02 23:41:00  0.05959  0.05961  0.05959  0.05961  1646253660000\n",
       "1   2022-03-02 23:42:00  0.05963  0.05963  0.05958  0.05960  1646253720000\n",
       "2   2022-03-02 23:43:00  0.05961  0.05962  0.05961  0.05962  1646253780000\n",
       "3   2022-03-02 23:44:00  0.05962  0.05962  0.05959  0.05959  1646253840000\n",
       "4   2022-03-02 23:45:00  0.05966  0.05966  0.05960  0.05963  1646253900000\n",
       "..                  ...      ...      ...      ...      ...            ...\n",
       "995 2022-03-03 16:16:00  0.05916  0.05918  0.05916  0.05918  1646313360000\n",
       "996 2022-03-03 16:17:00  0.05916  0.05916  0.05916  0.05916  1646313420000\n",
       "997 2022-03-03 16:18:00  0.05916  0.05917  0.05915  0.05915  1646313480000\n",
       "998 2022-03-03 16:19:00  0.05915  0.05918  0.05915  0.05918  1646313540000\n",
       "999 2022-03-03 16:20:00  0.05918  0.05918  0.05918  0.05918  1646313600000\n",
       "\n",
       "[1000 rows x 6 columns]"
      ]
     },
     "execution_count": 237,
     "metadata": {},
     "output_type": "execute_result"
    }
   ],
   "source": [
    "df = pd.read_json(pog)\n",
    "df"
   ]
  }
 ],
 "metadata": {
  "interpreter": {
   "hash": "63fd5069d213b44bf678585dea6b12cceca9941eaf7f819626cde1f2670de90d"
  },
  "kernelspec": {
   "display_name": "Python 3.9.9 64-bit",
   "language": "python",
   "name": "python3"
  },
  "language_info": {
   "codemirror_mode": {
    "name": "ipython",
    "version": 3
   },
   "file_extension": ".py",
   "mimetype": "text/x-python",
   "name": "python",
   "nbconvert_exporter": "python",
   "pygments_lexer": "ipython3",
   "version": "3.9.9"
  },
  "orig_nbformat": 4
 },
 "nbformat": 4,
 "nbformat_minor": 2
}
