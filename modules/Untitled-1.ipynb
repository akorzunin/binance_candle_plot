{
 "cells": [
  {
   "cell_type": "code",
   "execution_count": null,
   "metadata": {},
   "outputs": [],
   "source": [
    "from open_binance_api import OpenBinanceApi\n",
    "a = lambda: OpenBinanceApi.get_data(\n",
    "            pair = 'RVNUSDT',\n",
    "            interval = '5m',\n",
    "            limit = 1000,\n",
    "            )"
   ]
  },
  {
   "cell_type": "code",
   "execution_count": null,
   "metadata": {},
   "outputs": [],
   "source": [
    "a()[-1]"
   ]
  },
  {
   "cell_type": "code",
   "execution_count": null,
   "metadata": {},
   "outputs": [],
   "source": [
    "from collections import deque\n",
    "from time import sleep\n",
    "from open_binance_api import OpenBinanceApi\n",
    "\n",
    "from wss_thread import WssThread\n",
    "\n",
    "\n",
    "\n",
    "\n",
    "\n",
    "\n",
    "if __name__ == '__main__':\n",
    "    # connect to wss on background\n",
    "    w = WssThread(\n",
    "        url='wss://stream.binance.com:9443/ws/rvnusdt@ticker',\n",
    "        maxlen=10,\n",
    "    )\n",
    "    w.start()\n",
    "    RVN_q = deque(maxlen=1000)\n",
    "    get_data = lambda: OpenBinanceApi.get_data(\n",
    "            pair = 'RVNUSDT',\n",
    "            interval = '5m',\n",
    "            limit = 1000,\n",
    "            )\n",
    "    [RVN_q.append(i) for i in get_data()]\n",
    "    try:\n",
    "        while True:\n",
    "            sleep(1)\n",
    "            # get data from API\n",
    "            list_data = get_data()\n",
    "            last_candle = list_data[-1]\n",
    "            # second_candle = list_data[-2]\n",
    "\n",
    "            # # if data is different add it to deque object\n",
    "            if RVN_q[-1][0] != last_candle[0]:\n",
    "                RVN_q.append(last_candle)\n",
    "                print(RVN_q[-1])\n",
    "\n",
    "            # call evaluate\n",
    "        # if we got crosses do a trade w/ wss stream based values\n",
    "\n",
    "    finally:\n",
    "        w.close()"
   ]
  },
  {
   "cell_type": "code",
   "execution_count": 5,
   "metadata": {},
   "outputs": [
    {
     "data": {
      "text/plain": [
       "(([0           NaN\n",
       "   1           NaN\n",
       "   2           NaN\n",
       "   3           NaN\n",
       "   4           NaN\n",
       "            ...   \n",
       "   995    0.099650\n",
       "   996    0.099663\n",
       "   997    0.099657\n",
       "   998    0.099609\n",
       "   999    0.099597\n",
       "   Name: o, Length: 1000, dtype: float64,\n",
       "   0           NaN\n",
       "   1           NaN\n",
       "   2           NaN\n",
       "   3           NaN\n",
       "   4           NaN\n",
       "            ...   \n",
       "   995    0.100831\n",
       "   996    0.100722\n",
       "   997    0.100608\n",
       "   998    0.100502\n",
       "   999    0.100390\n",
       "   Name: o, Length: 1000, dtype: float64,\n",
       "   0           NaN\n",
       "   1           NaN\n",
       "   2           NaN\n",
       "   3           NaN\n",
       "   4           NaN\n",
       "            ...   \n",
       "   995    0.102618\n",
       "   996    0.102576\n",
       "   997    0.102531\n",
       "   998    0.102486\n",
       "   999    0.102447\n",
       "   Name: o, Length: 1000, dtype: float64],\n",
       "  [MA_point(timestamp=1641792000000, val=0.09944599999999999, type='raise'),\n",
       "   MA_point(timestamp=1641805800000, val=0.0993112, type='fall'),\n",
       "   MA_point(timestamp=1641848100000, val=0.0897912, type='raise'),\n",
       "   MA_point(timestamp=1641867000000, val=0.0901024, type='fall'),\n",
       "   MA_point(timestamp=1641867300000, val=0.0901136, type='raise'),\n",
       "   MA_point(timestamp=1641867600000, val=0.09012880000000001, type='fall'),\n",
       "   MA_point(timestamp=1641867900000, val=0.09019120000000001, type='raise'),\n",
       "   MA_point(timestamp=1641898200000, val=0.09190759999999999, type='fall'),\n",
       "   MA_point(timestamp=1641919200000, val=0.0916236, type='raise'),\n",
       "   MA_point(timestamp=1642007100000, val=0.103398, type='fall'),\n",
       "   MA_point(timestamp=1642029300000, val=0.10333359999999998, type='raise'),\n",
       "   MA_point(timestamp=1642030200000, val=0.1032588, type='fall')]),\n",
       " (True, 'fall'))"
      ]
     },
     "execution_count": 5,
     "metadata": {},
     "output_type": "execute_result"
    }
   ],
   "source": [
    "from alg_handler import AlgHandler\n",
    "alg = AlgHandler(\n",
    "    data=pd.DataFrame(list(RVN_q), columns=[    \n",
    "    'E',\n",
    "    'o',\n",
    "    'h',\n",
    "    'l',\n",
    "    'c',\n",
    "    'v',\n",
    "    'Close time',\n",
    "    'Quote asset volume',\n",
    "    'Number of trades',\n",
    "    'Taker buy base asset volume',\n",
    "    'Taker buy quote asset volume',\n",
    "    'Ignore.',\n",
    "    ])\n",
    "    )\n",
    "alg.calculate(), alg.evaluate()"
   ]
  },
  {
   "cell_type": "code",
   "execution_count": 3,
   "metadata": {},
   "outputs": [
    {
     "data": {
      "text/plain": [
       "pandas.core.frame.DataFrame"
      ]
     },
     "execution_count": 3,
     "metadata": {},
     "output_type": "execute_result"
    }
   ],
   "source": [
    "import pandas as pd\n",
    "type(pd.DataFrame(list(RVN_q), columns=[    \n",
    "    'E',\n",
    "    'o',\n",
    "    'h',\n",
    "    'l',\n",
    "    'c',\n",
    "    'v',\n",
    "    'Close time',\n",
    "    'Quote asset volume',\n",
    "    'Number of trades',\n",
    "    'Taker buy base asset volume',\n",
    "    'Taker buy quote asset volume',\n",
    "    'Ignore.',\n",
    "    ])\n",
    ")"
   ]
  },
  {
   "cell_type": "code",
   "execution_count": null,
   "metadata": {},
   "outputs": [],
   "source": []
  },
  {
   "cell_type": "code",
   "execution_count": null,
   "metadata": {},
   "outputs": [],
   "source": [
    "import datetime\n",
    "datetime.datetime.fromtimestamp(1642034999999 /1000)"
   ]
  }
 ],
 "metadata": {
  "interpreter": {
   "hash": "698d50f44e43cc33e445a1debb6fc81ef4fb9e5b15bde08caf42bd17af266677"
  },
  "kernelspec": {
   "display_name": "Python 3.9.9 64-bit (windows store)",
   "language": "python",
   "name": "python3"
  },
  "language_info": {
   "codemirror_mode": {
    "name": "ipython",
    "version": 3
   },
   "file_extension": ".py",
   "mimetype": "text/x-python",
   "name": "python",
   "nbconvert_exporter": "python",
   "pygments_lexer": "ipython3",
   "version": "3.9.9"
  },
  "orig_nbformat": 4
 },
 "nbformat": 4,
 "nbformat_minor": 2
}
