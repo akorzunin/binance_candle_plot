{
 "cells": [
  {
   "cell_type": "code",
   "execution_count": 8,
   "metadata": {},
   "outputs": [
    {
     "name": "stdout",
     "output_type": "stream",
     "text": [
      "<class 'numpy.ndarray'>\n"
     ]
    }
   ],
   "source": [
    "import pandas as pd\n",
    "from datetime import datetime\n",
    "from alg_ma import AlgMa\n",
    "from random import randint\n",
    "df = pd.DataFrame()\n",
    "df['Test'] = [randint(0, 100) for i in range(1000)]\n",
    "# print(\n",
    "MA_lines = AlgMa.alg_main(df['Test'], MA_list=(7, 25, 100))\n",
    "print(type(MA_lines[0]))\n",
    "# find intersections\n",
    "df['Time'] = [datetime.fromtimestamp(i*10**6) for i in range(1000)]\n"
   ]
  },
  {
   "cell_type": "code",
   "execution_count": 6,
   "metadata": {},
   "outputs": [
    {
     "name": "stdout",
     "output_type": "stream",
     "text": [
      "13.9 ms ± 744 µs per loop (mean ± std. dev. of 7 runs, 100 loops each)\n"
     ]
    }
   ],
   "source": [
    "%%timeit -n 100\n",
    "p = AlgMa.find_intersections(df['Time'], MA_lines[1], MA_lines[2])\n"
   ]
  },
  {
   "cell_type": "code",
   "execution_count": 3,
   "metadata": {},
   "outputs": [],
   "source": [
    "# 20.1 .. 20.6 enum\n",
    "# 21 .. 20.8\n",
    "#13.9 np array"
   ]
  }
 ],
 "metadata": {
  "interpreter": {
   "hash": "698d50f44e43cc33e445a1debb6fc81ef4fb9e5b15bde08caf42bd17af266677"
  },
  "kernelspec": {
   "display_name": "Python 3.9.10 64-bit (windows store)",
   "language": "python",
   "name": "python3"
  },
  "language_info": {
   "codemirror_mode": {
    "name": "ipython",
    "version": 3
   },
   "file_extension": ".py",
   "mimetype": "text/x-python",
   "name": "python",
   "nbconvert_exporter": "python",
   "pygments_lexer": "ipython3",
   "version": "3.9.10"
  },
  "orig_nbformat": 4
 },
 "nbformat": 4,
 "nbformat_minor": 2
}
