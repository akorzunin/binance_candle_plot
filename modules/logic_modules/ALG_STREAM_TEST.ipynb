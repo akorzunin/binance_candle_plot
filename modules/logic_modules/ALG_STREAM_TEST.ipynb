{
 "cells": [
  {
   "cell_type": "code",
   "execution_count": 1,
   "metadata": {},
   "outputs": [],
   "source": [
    "import pandas as pd\n",
    "import numpy as np\n",
    "import pickle\n",
    "import os\n",
    "import asyncio\n",
    "import datetime\n",
    "from datetime import datetime\n",
    "from datetime import timedelta, timezone\n",
    "from typing import Optional\n",
    "from dotenv import load_dotenv\n",
    "from operator import itemgetter\n",
    "\n",
    "load_dotenv()\n",
    "PWD = os.getenv(\"PWD\")\n",
    "db_name = PWD + \"\\\\database\" + \"\\\\RVNUSDT.db\"\n",
    "import sys\n",
    "\n",
    "sys.path.insert(1, PWD + \"\\\\modules\")\n",
    "sys.path.insert(1, PWD )\n",
    "from alg_modules.alg_handler import AlgHandler\n",
    "from plot_modules.candle_plot import CandlePlot\n",
    "from collections import deque\n",
    "from paper_trade import PaperTrader\n",
    "import time\n",
    "import logging\n",
    "\n",
    "DEBUG = __debug__\n",
    "LOG_FILE_NAME = \"log_file_name.log\"\n",
    "format = \"%(asctime)s [%(levelname)s]: %(message)s\"\n",
    "logger = logging.basicConfig(\n",
    "    filename=LOG_FILE_NAME if not DEBUG else None,\n",
    "    format=format,\n",
    "    encoding=\"utf-8\",\n",
    "    level=logging.INFO,\n",
    ")\n",
    "if not DEBUG:\n",
    "    logging.getLogger(logger).addHandler(logging.StreamHandler())\n",
    "\n",
    "from stop_loss import StopLoss\n",
    "from trade_strategy import TradeStrategy\n",
    "from wss_thread import WssThread\n",
    "from api_modules.open_binance_api import OpenBinanceApi\n",
    "import pytz\n",
    "tzdata = pytz.timezone('Europe/Moscow') \n",
    "from utils.time_utils import sleep_until\n",
    "\n",
    "from data_API.data_API_wrapper import DataApiWrapper"
   ]
  },
  {
   "cell_type": "code",
   "execution_count": 2,
   "metadata": {},
   "outputs": [
    {
     "name": "stderr",
     "output_type": "stream",
     "text": [
      "2022-03-27 02:19:49,243 [INFO]: server_time: 2022-03-27 02:19:51.621000\n"
     ]
    },
    {
     "data": {
      "text/plain": [
       "2.377899"
      ]
     },
     "execution_count": 2,
     "metadata": {},
     "output_type": "execute_result"
    }
   ],
   "source": [
    "server_time = datetime.fromtimestamp(OpenBinanceApi.server_time()/1000)\n",
    "local_time = datetime.now()\n",
    "delay = server_time - local_time\n",
    "logging.info(f'server_time: {server_time}')\n",
    "# logging.info(f'local_time: {local_time}')\n",
    "delay.total_seconds()"
   ]
  },
  {
   "cell_type": "code",
   "execution_count": 3,
   "metadata": {},
   "outputs": [],
   "source": [
    "# notifications\n",
    "from win10toast import ToastNotifier\n",
    "toast = ToastNotifier()\n",
    "static_notification_settings = dict(\n",
    "    title=\"Algo traid BOT\",\n",
    "    duration = 20,\n",
    "    icon_path = \"python.ico\",\n",
    "    threaded = 1,\n",
    ")\n",
    "\n",
    "notify = lambda msg: toast.show_toast(\n",
    "    msg=msg,\n",
    "    **static_notification_settings,\n",
    "    )\n",
    "\n",
    "async def notification(msg):\n",
    "    if notify(msg):\n",
    "        pass\n",
    "    else:\n",
    "        await asyncio.sleep(20)\n",
    "        notify(msg)\n",
    "msg=\"Watch out for notifications from here\"\n",
    "\n",
    "await notification(msg)"
   ]
  },
  {
   "cell_type": "code",
   "execution_count": 4,
   "metadata": {},
   "outputs": [],
   "source": [
    "# data API connection\n",
    "endpoint = 'http://192.168.1.125:8000'\n",
    "data_API = DataApiWrapper(\n",
    "    endpoint=endpoint\n",
    ")"
   ]
  },
  {
   "cell_type": "code",
   "execution_count": 5,
   "metadata": {},
   "outputs": [
    {
     "name": "stderr",
     "output_type": "stream",
     "text": [
      "2022-03-27 02:19:50,951 [INFO]: ### Opening wss stream ###\n",
      "2022-03-27 02:19:51,016 [INFO]: ===get new data===\n",
      "2022-03-27 02:19:51,803 [INFO]: ---not valid---\n"
     ]
    }
   ],
   "source": [
    "DATA_AWAIT_TIME = 30 # seconds\n",
    "SERVER_DELAY = 10 # seconds\n",
    "# INTERVAL_SECONDS = 60 # seconds\n",
    "INTERVAL_SECONDS = 60*5 # seconds\n",
    "w = WssThread(\n",
    "    url='wss://stream.binance.com:9443/ws/rvnusdt@ticker',\n",
    "    maxlen=10,\n",
    "    )\n",
    "w.start()\n",
    "# wait for wss to open\n",
    "time.sleep(0.3 )\n",
    "STOP_LOSS_ENABLED=True\n",
    "STOP_LOSS_THRESHOLD=-1.3\n",
    "\n",
    "DEQUE_MAX_LENGTH = 200\n",
    "# INTERVAL = '1m'\n",
    "INTERVAL = '5m'\n",
    "\n",
    "\n",
    "df = OpenBinanceApi.get_df(\n",
    "    pair = 'RVNUSDT',\n",
    "    interval = INTERVAL,\n",
    "    limit = 1000,\n",
    ")\n",
    "# drop last row TODO make assert to not dublicate last row from cycle\n",
    "df = df[:-2]\n",
    "stop_loss_trade_flag = False\n",
    "MA_list = (1, 7, 25, 100)\n",
    "\n",
    "window = deque(maxlen=200)\n",
    "for i, row in df.iterrows():\n",
    "    window.append(dict(row.squeeze()))\n",
    "#initial currency resources\n",
    "p_trdr = PaperTrader(\n",
    "    main_currency_label='RVN',\n",
    "    secondary_currency_label='USD',\n",
    "    main_currency_amount=100,\n",
    "    secondary_currency_amount=0.01,\n",
    "    fee=0.1,\n",
    ")\n",
    "trade_data = pd.DataFrame(\n",
    "    columns = p_trdr.get_df(timestamp=df.iloc[-1]['Date']).columns.values\n",
    ")\n",
    "trade_data['reason'] = ''\n",
    "# with open(f'{PWD}/temp/trade_data_raw.csv', 'w')as f:\n",
    "#     f.write(trade_data.to_csv())\n",
    "# with open(f'{PWD}/temp/df_raw.csv', 'w')as f:\n",
    "#     f.write(df.to_csv())\n",
    "stop_loss = StopLoss(\n",
    "    STOP_LOSS_THRESHOLD=STOP_LOSS_THRESHOLD,\n",
    ")\n",
    "# init alg\n",
    "alg = AlgHandler(\n",
    "    df=pd.DataFrame([]),\n",
    "    MA_list=MA_list,\n",
    "    )\n",
    "data_API.update_ma_lines(MA_list)\n",
    "data_API.update_stock_data(df)\n",
    "data_API.update_trade_data(trade_data)\n",
    "stop_loss_trade_flag = 0\n",
    "try:\n",
    "    while 1:\n",
    "        logging.info('===get new data===')\n",
    "        new_df = OpenBinanceApi.get_df(\n",
    "                pair = 'RVNUSDT',\n",
    "                interval = INTERVAL,\n",
    "                limit = 2, # mb we need 2 here\n",
    "            )\n",
    "        dt = datetime.fromtimestamp(int(new_df.Real_Date[-1:])/1000)\n",
    "        server_time = datetime.fromtimestamp(OpenBinanceApi.server_time()/1000)\n",
    "        logging.debug(f'server time: {server_time}   {server_time.minute=}, {dt.minute=}')\n",
    "        # extract function?\n",
    "        \n",
    "        # works if delay between server and client within 1 minute range\n",
    "        if server_time.minute == dt.minute:\n",
    "            logging.debug('+++===success===+++')\n",
    "            # add full candle to sliding window; cant be sure that last candle is full\n",
    "            window.append(dict(new_df[-2:-1].squeeze()))\n",
    "            time_cursor = pd.to_datetime(new_df[-2:-1].Date[0])\n",
    "            # logging.warning(f'{time_cursor=}')\n",
    "            df_ = pd.DataFrame(window)\n",
    "            data_API.update_stock_data(df_)\n",
    "\n",
    "            # === process data here ===\n",
    "\n",
    "            stop_loss_count, trade_data, p_trdr, stop_loss_trade_flag = TradeStrategy.trade_strategy(\n",
    "                STOP_LOSS_ENABLED=STOP_LOSS_ENABLED, \n",
    "                STOP_LOSS_THRESHOLD=STOP_LOSS_THRESHOLD, \n",
    "                trade_data=trade_data,\n",
    "                stop_loss=stop_loss,\n",
    "                p_trdr=p_trdr,\n",
    "                window=window,\n",
    "                alg=alg,\n",
    "                stop_loss_trade_flag=stop_loss_trade_flag,\n",
    "                # df=df_,\n",
    "                wss=w,\n",
    "                # add columns notation Data/datate_created; high_/High; ...\n",
    "            )\n",
    "\n",
    "            # === end of data processing ===\n",
    "\n",
    "            data_API.update_trade_data(trade_data)\n",
    "            \n",
    "            time_to_sleep = dt - delay + timedelta(seconds=SERVER_DELAY) + timedelta(seconds=INTERVAL_SECONDS)\n",
    "            server_delay = dt - server_time\n",
    "            logging.info(f'server valid time: {server_time}')\n",
    "            logging.info(f'server delay: {server_delay.total_seconds()}')\n",
    "            logging.info(f'sleep till: {time_to_sleep}')\n",
    "            await sleep_until(time_to_sleep)\n",
    "        else:\n",
    "            logging.info('---not valid---')\n",
    "            logging.debug(f'sleep {DATA_AWAIT_TIME} sec')\n",
    "            await asyncio.sleep(DATA_AWAIT_TIME)\n",
    "        \n",
    "finally:\n",
    "    # close thread\n",
    "    w.close()\n",
    "    # trade.close()\n",
    "    # notify that we done\n",
    "    await notification('App terminated')\n"
   ]
  },
  {
   "cell_type": "code",
   "execution_count": null,
   "metadata": {},
   "outputs": [],
   "source": [
    "assert 0"
   ]
  },
  {
   "cell_type": "code",
   "execution_count": null,
   "metadata": {},
   "outputs": [],
   "source": [
    "# 25 100\n"
   ]
  },
  {
   "cell_type": "code",
   "execution_count": null,
   "metadata": {},
   "outputs": [],
   "source": [
    "trade_data"
   ]
  },
  {
   "cell_type": "code",
   "execution_count": null,
   "metadata": {},
   "outputs": [],
   "source": []
  },
  {
   "cell_type": "code",
   "execution_count": null,
   "metadata": {},
   "outputs": [],
   "source": []
  },
  {
   "cell_type": "code",
   "execution_count": null,
   "metadata": {},
   "outputs": [],
   "source": [
    "for i, row in df.iterrows():\n",
    "    window.append(dict(row.squeeze()))"
   ]
  },
  {
   "cell_type": "code",
   "execution_count": null,
   "metadata": {},
   "outputs": [],
   "source": [
    "pd.DataFrame(window)"
   ]
  },
  {
   "cell_type": "code",
   "execution_count": null,
   "metadata": {},
   "outputs": [],
   "source": [
    "df = df[:-1]\n",
    "df"
   ]
  },
  {
   "cell_type": "code",
   "execution_count": null,
   "metadata": {},
   "outputs": [],
   "source": [
    "def process_data(new_df: pd.DataFrame, window: deque,) -> pd.DataFrame:\n",
    "    window.append(new_df)\n",
    "    df_ = pd.DataFrame(window)\n",
    "    return df_"
   ]
  },
  {
   "cell_type": "code",
   "execution_count": null,
   "metadata": {},
   "outputs": [],
   "source": [
    "dict(new_df.squeeze())"
   ]
  },
  {
   "cell_type": "code",
   "execution_count": null,
   "metadata": {},
   "outputs": [],
   "source": [
    "window[0]"
   ]
  },
  {
   "cell_type": "code",
   "execution_count": null,
   "metadata": {},
   "outputs": [],
   "source": [
    "trade_data"
   ]
  },
  {
   "cell_type": "code",
   "execution_count": null,
   "metadata": {},
   "outputs": [],
   "source": []
  },
  {
   "cell_type": "code",
   "execution_count": null,
   "metadata": {},
   "outputs": [],
   "source": []
  },
  {
   "cell_type": "code",
   "execution_count": null,
   "metadata": {},
   "outputs": [],
   "source": []
  }
 ],
 "metadata": {
  "interpreter": {
   "hash": "698d50f44e43cc33e445a1debb6fc81ef4fb9e5b15bde08caf42bd17af266677"
  },
  "kernelspec": {
   "display_name": "Python 3.9.9 64-bit (windows store)",
   "language": "python",
   "name": "python3"
  },
  "language_info": {
   "codemirror_mode": {
    "name": "ipython",
    "version": 3
   },
   "file_extension": ".py",
   "mimetype": "text/x-python",
   "name": "python",
   "nbconvert_exporter": "python",
   "pygments_lexer": "ipython3",
   "version": "3.9.9"
  },
  "orig_nbformat": 4
 },
 "nbformat": 4,
 "nbformat_minor": 2
}
