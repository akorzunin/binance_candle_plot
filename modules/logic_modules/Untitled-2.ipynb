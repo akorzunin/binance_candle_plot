{
 "cells": [
  {
   "cell_type": "code",
   "execution_count": 1,
   "metadata": {},
   "outputs": [],
   "source": [
    "from paper_trade import PaperTrader\n",
    "import logging\n",
    "DEBUG = __debug__ \n",
    "LOG_FILE_NAME = 'log_file_name.log'\n",
    "format = '%(asctime)s [%(levelname)s]: %(message)s'\n",
    "logger = logging.basicConfig(\n",
    "    filename=LOG_FILE_NAME if not DEBUG else None, \n",
    "    format=format,\n",
    "    encoding='utf-8', \n",
    "    level=logging.DEBUG, \n",
    ")\n",
    "if not DEBUG:\n",
    "    logging.getLogger(logger).addHandler(logging.StreamHandler())\n",
    "\n"
   ]
  },
  {
   "cell_type": "code",
   "execution_count": 32,
   "metadata": {},
   "outputs": [
    {
     "name": "stderr",
     "output_type": "stream",
     "text": [
      "2022-01-23 14:49:55,180 [INFO]: RVN: 10\n",
      "2022-01-23 14:49:55,182 [INFO]: USD: 0\n",
      "2022-01-23 14:49:55,182 [INFO]: self.fee=0.1\n"
     ]
    }
   ],
   "source": [
    "p_trdr = PaperTrader(\n",
    "    main_currency_label='RVN',\n",
    "    secondary_currency_label='USD',\n",
    "    main_currency_amount=10,\n",
    "    # secondary_currency_amount=0\n",
    "    fee=0.1,\n",
    ")\n",
    "p_trdr.get_info()\n"
   ]
  },
  {
   "cell_type": "code",
   "execution_count": 71,
   "metadata": {},
   "outputs": [
    {
     "name": "stderr",
     "output_type": "stream",
     "text": [
      "2022-01-23 16:57:37,618 [DEBUG]: RVN: 9.8\n",
      "2022-01-23 16:57:37,620 [DEBUG]: USD: 3.98\n",
      "2022-01-23 16:57:37,621 [DEBUG]: trade_type='SELL'\n",
      "2022-01-23 16:57:37,621 [DEBUG]: sell_price=0.11\n"
     ]
    }
   ],
   "source": [
    "trade_type = \"SELL\" if 1 else \"BUY\"\n",
    "p_trdr.trade(\n",
    "    amount=10 if trade_type == \"SELL\" else 1,\n",
    "    trade_type=trade_type, # buy main or sell main\n",
    "    sell_price=0.11,\n",
    "    buy_price=0.09,\n",
    ")"
   ]
  },
  {
   "cell_type": "code",
   "execution_count": 68,
   "metadata": {},
   "outputs": [
    {
     "name": "stderr",
     "output_type": "stream",
     "text": [
      "2022-01-23 16:43:20,691 [INFO]: RVN: 39.8\n",
      "2022-01-23 16:43:20,693 [INFO]: USD: 0.68\n",
      "2022-01-23 16:43:20,694 [INFO]: self.fee=0.1\n"
     ]
    }
   ],
   "source": [
    "p_trdr.get_info()"
   ]
  }
 ],
 "metadata": {
  "interpreter": {
   "hash": "63fd5069d213b44bf678585dea6b12cceca9941eaf7f819626cde1f2670de90d"
  },
  "kernelspec": {
   "display_name": "Python 3.9.9 64-bit",
   "language": "python",
   "name": "python3"
  },
  "language_info": {
   "codemirror_mode": {
    "name": "ipython",
    "version": 3
   },
   "file_extension": ".py",
   "mimetype": "text/x-python",
   "name": "python",
   "nbconvert_exporter": "python",
   "pygments_lexer": "ipython3",
   "version": "3.9.9"
  },
  "orig_nbformat": 4
 },
 "nbformat": 4,
 "nbformat_minor": 2
}
