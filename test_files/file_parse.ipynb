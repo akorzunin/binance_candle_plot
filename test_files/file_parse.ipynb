{
 "cells": [
  {
   "cell_type": "code",
   "execution_count": null,
   "metadata": {},
   "outputs": [],
   "source": [
    "import sys\n",
    "sys.path.insert(1, r'C:\\Users\\akorz\\Documents\\binance_bot\\binance_candle_plot\\modules')\n",
    "from alg_ma import AlgMa\n",
    "import pandas as pd"
   ]
  },
  {
   "cell_type": "code",
   "execution_count": null,
   "metadata": {},
   "outputs": [],
   "source": [
    "with open(r\"C:\\Users\\akorz\\Documents\\binance_bot\\binance_candle_plot\\RVNUSD_data.txt\", \"r\") as f:\n",
    "    pog = f.readlines()\n",
    "    # 28 1-29\n",
    "    lines = lambda f: len([line.strip(\"\\n\") for line in f if line != \"\\n\"])\n",
    "    # print(lines)\n",
    "    line_count = lines(f)\n",
    "    # remove_first_line(\"RVNUSD_data.txt\")\n",
    "    \n",
    "\n",
    "line_count, len(pog)"
   ]
  },
  {
   "cell_type": "code",
   "execution_count": null,
   "metadata": {},
   "outputs": [],
   "source": [
    "%matplotlib widget\n",
    "import json\n",
    "import matplotlib.pyplot as plt\n",
    "# pog_items = [i.items() for i in pog]\n",
    "sadge = [json.loads(i) for i in pog]\n",
    "df = pd.DataFrame(sadge)\n",
    "p = AlgMa.alg_main(df['o'])\n",
    "\n",
    "# df\n",
    "\n",
    "plt.plot(df['E'], p[0])\n",
    "plt.plot(df['E'], p[1])\n",
    "plt.plot(df['E'], p[2])\n",
    "\n",
    "plt.show()"
   ]
  },
  {
   "cell_type": "code",
   "execution_count": 17,
   "metadata": {},
   "outputs": [
    {
     "name": "stdout",
     "output_type": "stream",
     "text": [
      "<class 'list'>\n",
      "<class 'int'>\n"
     ]
    },
    {
     "data": {
      "text/plain": [
       "<list_iterator at 0x177128772e0>"
      ]
     },
     "execution_count": 17,
     "metadata": {},
     "output_type": "execute_result"
    }
   ],
   "source": [
    "file = ['','','']\n",
    "print(type(file))\n",
    "print(type(0xfff))\n",
    "\n",
    "# type(file) == type(iterable)\n",
    "iter(file)"
   ]
  },
  {
   "cell_type": "code",
   "execution_count": 1,
   "metadata": {},
   "outputs": [
    {
     "ename": "NameError",
     "evalue": "name 'pog' is not defined",
     "output_type": "error",
     "traceback": [
      "\u001b[1;31m---------------------------------------------------------------------------\u001b[0m",
      "\u001b[1;31mNameError\u001b[0m                                 Traceback (most recent call last)",
      "\u001b[1;32m~\\AppData\\Local\\Temp/ipykernel_20704/3521094596.py\u001b[0m in \u001b[0;36m<module>\u001b[1;34m\u001b[0m\n\u001b[0;32m      1\u001b[0m \u001b[0mfile\u001b[0m \u001b[1;33m=\u001b[0m \u001b[1;34mr'123'\u001b[0m\u001b[1;33m\u001b[0m\u001b[1;33m\u001b[0m\u001b[0m\n\u001b[0;32m      2\u001b[0m \u001b[0misinstance\u001b[0m\u001b[1;33m(\u001b[0m\u001b[0mfile\u001b[0m\u001b[1;33m,\u001b[0m \u001b[1;33m(\u001b[0m\u001b[0mlist\u001b[0m\u001b[1;33m,\u001b[0m \u001b[0mtuple\u001b[0m\u001b[1;33m)\u001b[0m\u001b[1;33m)\u001b[0m\u001b[1;33m\u001b[0m\u001b[1;33m\u001b[0m\u001b[0m\n\u001b[1;32m----> 3\u001b[1;33m \u001b[0mprint\u001b[0m\u001b[1;33m(\u001b[0m\u001b[0mpog\u001b[0m\u001b[1;33m)\u001b[0m\u001b[1;33m\u001b[0m\u001b[1;33m\u001b[0m\u001b[0m\n\u001b[0m",
      "\u001b[1;31mNameError\u001b[0m: name 'pog' is not defined"
     ]
    }
   ],
   "source": [
    "file = r'123'\n",
    "isinstance(file, (list, tuple))\n",
    "print(pog)"
   ]
  }
 ],
 "metadata": {
  "interpreter": {
   "hash": "698d50f44e43cc33e445a1debb6fc81ef4fb9e5b15bde08caf42bd17af266677"
  },
  "kernelspec": {
   "display_name": "Python 3.9.7 64-bit (windows store)",
   "name": "python3"
  },
  "language_info": {
   "codemirror_mode": {
    "name": "ipython",
    "version": 3
   },
   "file_extension": ".py",
   "mimetype": "text/x-python",
   "name": "python",
   "nbconvert_exporter": "python",
   "pygments_lexer": "ipython3",
   "version": "3.9.7"
  }
 },
 "nbformat": 4,
 "nbformat_minor": 2
}
